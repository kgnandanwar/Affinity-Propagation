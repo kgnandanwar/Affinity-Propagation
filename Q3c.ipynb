{
 "cells": [
  {
   "cell_type": "code",
   "execution_count": 7,
   "id": "3ab04478",
   "metadata": {},
   "outputs": [],
   "source": [
    "import numpy as np\n",
    "import matplotlib.pyplot as plt\n",
    "import pandas as pd\n",
    "from sklearn import datasets, svm, metrics"
   ]
  },
  {
   "cell_type": "code",
   "execution_count": 8,
   "id": "c09e8387",
   "metadata": {},
   "outputs": [],
   "source": [
    "from sklearn.datasets import load_digits\n",
    "digits = load_digits()\n",
    "train = digits.data\n",
    "targets = digits.target"
   ]
  },
  {
   "cell_type": "code",
   "execution_count": 9,
   "id": "0a9a8cf6",
   "metadata": {},
   "outputs": [],
   "source": [
    "from sklearn.cluster import AffinityPropagation\n",
    "\n",
    "ap = AffinityPropagation(preference = -50000, damping=0.8, random_state=0)\n",
    "pred = ap.fit(train)"
   ]
  },
  {
   "cell_type": "code",
   "execution_count": 10,
   "id": "6e54d139",
   "metadata": {},
   "outputs": [
    {
     "name": "stdout",
     "output_type": "stream",
     "text": [
      "[3 6 6 ... 6 9 6]\n"
     ]
    }
   ],
   "source": [
    "# print(targets)\n",
    "Labels = pred.labels_\n",
    "print(Labels)"
   ]
  },
  {
   "cell_type": "code",
   "execution_count": 11,
   "id": "1631d71c",
   "metadata": {},
   "outputs": [],
   "source": [
    "def clusterChecking(tar,lab):\n",
    "    new_lab=np.copy(lab)\n",
    "    for j in range(10):\n",
    "        temp=np.where(lab==j)\n",
    "        temp_array=tar[temp]\n",
    "        vals,counts = np.unique(temp_array, return_counts=True)\n",
    "       \n",
    "        index = np.argmax(counts)\n",
    "        m=vals[index]\n",
    "        new_lab[temp]=m\n",
    "    return new_lab  "
   ]
  },
  {
   "cell_type": "code",
   "execution_count": 12,
   "id": "60742e9d",
   "metadata": {},
   "outputs": [
    {
     "name": "stdout",
     "output_type": "stream",
     "text": [
      "[3 6 6 ... 6 9 6]\n",
      "[0 8 8 ... 8 9 8]\n"
     ]
    }
   ],
   "source": [
    "new = clusterChecking(targets, Labels)\n",
    "# print(targets)\n",
    "print(Labels)\n",
    "print(new)"
   ]
  },
  {
   "cell_type": "code",
   "execution_count": 13,
   "id": "69c99043",
   "metadata": {},
   "outputs": [
    {
     "name": "stdout",
     "output_type": "stream",
     "text": [
      "[[175   0   0   0   2   0   1   0   0   0]\n",
      " [  0  55  25   2   0   0   1   0  99   0]\n",
      " [  2   1 136   3   0   0   0   3  24   8]\n",
      " [  1   0   0 147   0   2   0  10   7  16]\n",
      " [  0   4   0   0 161   1   0   7   8   0]\n",
      " [  2   0   0   0   1 157   1   0   3  18]\n",
      " [  1   0   0   0   1   1 174   0   3   1]\n",
      " [  0   0   0   0   3   1   0 168   7   0]\n",
      " [  2   6   4  21   0   6   0   2 128   5]\n",
      " [  8  17   0  12   0   7   0   6   2 128]]\n"
     ]
    }
   ],
   "source": [
    "from sklearn.metrics import confusion_matrix, accuracy_score\n",
    "cm = confusion_matrix(targets, new)\n",
    "print(cm)"
   ]
  },
  {
   "cell_type": "code",
   "execution_count": 14,
   "id": "9c3b1f08",
   "metadata": {},
   "outputs": [
    {
     "name": "stdout",
     "output_type": "stream",
     "text": [
      "Accuracy:  68.5334082194355 %\n"
     ]
    }
   ],
   "source": [
    "accuracy = metrics.fowlkes_mallows_score(targets, new)\n",
    "print('Accuracy: ',accuracy*100, '%')"
   ]
  }
 ],
 "metadata": {
  "kernelspec": {
   "display_name": "Python 3",
   "language": "python",
   "name": "python3"
  },
  "language_info": {
   "codemirror_mode": {
    "name": "ipython",
    "version": 3
   },
   "file_extension": ".py",
   "mimetype": "text/x-python",
   "name": "python",
   "nbconvert_exporter": "python",
   "pygments_lexer": "ipython3",
   "version": "3.8.8"
  }
 },
 "nbformat": 4,
 "nbformat_minor": 5
}
